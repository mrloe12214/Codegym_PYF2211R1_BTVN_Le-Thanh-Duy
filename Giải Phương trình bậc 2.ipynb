{
 "cells": [
  {
   "cell_type": "code",
   "execution_count": 51,
   "id": "c578b6f2",
   "metadata": {},
   "outputs": [
    {
     "name": "stdout",
     "output_type": "stream",
     "text": [
      "Nhập a: a =2\n",
      "Nhập b: b =5\n",
      "Nhập c: c =2\n",
      "delta = 9\n",
      "Nghiệm là: x1 = -0.5 x2 = -2.0\n"
     ]
    }
   ],
   "source": [
    "#Giải phương trình: ax^2 + bx + c =0\n",
    "a = int(input(\"Nhập a: a =\"))\n",
    "b = int(input(\"Nhập b: b =\"))\n",
    "c = int(input(\"Nhập c: c =\"))\n",
    "if a == 0:\n",
    "    x = -c/b\n",
    "    print(\"Đây là phương trình bậc 1, Nghiệm là: x =\", x)\n",
    "else:\n",
    "    delta = b*b - 4*a*c\n",
    "    print(\"delta =\", delta)\n",
    "    if delta < 0:\n",
    "        print(\"Phương trình vô nghiệm\")\n",
    "    else:\n",
    "        if delta == 0:\n",
    "            x1 = x2 = -b/(2*a)\n",
    "            print(\"Nghiệm là: x1 = x2 = \",x1)\n",
    "        else:\n",
    "            import math\n",
    "            x1 = (-b + math.sqrt(delta))/(2*a)\n",
    "            x2 = (-b - math.sqrt(delta))/(2*a)\n",
    "            print(\"Nghiệm là: x1 =\", x1,\"x2 =\",x2)"
   ]
  },
  {
   "cell_type": "code",
   "execution_count": null,
   "id": "27791384",
   "metadata": {},
   "outputs": [],
   "source": []
  }
 ],
 "metadata": {
  "kernelspec": {
   "display_name": "Python 3 (ipykernel)",
   "language": "python",
   "name": "python3"
  },
  "language_info": {
   "codemirror_mode": {
    "name": "ipython",
    "version": 3
   },
   "file_extension": ".py",
   "mimetype": "text/x-python",
   "name": "python",
   "nbconvert_exporter": "python",
   "pygments_lexer": "ipython3",
   "version": "3.9.13"
  }
 },
 "nbformat": 4,
 "nbformat_minor": 5
}
